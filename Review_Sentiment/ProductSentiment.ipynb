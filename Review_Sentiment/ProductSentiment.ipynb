{
 "cells": [
  {
   "cell_type": "markdown",
   "id": "8f7c90a1",
   "metadata": {},
   "source": [
    "# <u><center>Product Sentiment Analysis</center></u>"
   ]
  },
  {
   "cell_type": "code",
   "execution_count": 1,
   "id": "3bfb1990",
   "metadata": {},
   "outputs": [],
   "source": [
    "#pip install selenium"
   ]
  },
  {
   "cell_type": "code",
   "execution_count": 2,
   "id": "3a294ff2",
   "metadata": {},
   "outputs": [],
   "source": [
    "from selenium import webdriver\n",
    "import pandas as pd\n",
    "import warnings\n",
    "from selenium.webdriver.support.select import Select\n",
    "warnings.filterwarnings('ignore')"
   ]
  },
  {
   "attachments": {},
   "cell_type": "markdown",
   "id": "9bdd505c",
   "metadata": {},
   "source": [
    "### <u><center>Mobile Phones Review Collection from Flipkart website</center></u>"
   ]
  },
  {
   "cell_type": "code",
   "execution_count": 3,
   "id": "26a57322",
   "metadata": {},
   "outputs": [
    {
     "data": {
      "text/plain": [
       "<selenium.webdriver.chrome.webdriver.WebDriver (session=\"c70d8bc426b3ad069113080de8b2b1fb\")>"
      ]
     },
     "execution_count": 3,
     "metadata": {},
     "output_type": "execute_result"
    }
   ],
   "source": [
    "path = \"C:/Users/chira/Downloads/chromedriver.exe\"\n",
    "driver = webdriver.Chrome(executable_path=path)\n",
    "driver"
   ]
  },
  {
   "cell_type": "code",
   "execution_count": 4,
   "id": "2d54c2de",
   "metadata": {},
   "outputs": [],
   "source": [
    "mobile_url_link = [\"https://www.flipkart.com/apple-iphone-11-black-64-gb-includes-earpods-power-adapter/product-reviews/itm0f37c2240b217?pid=MOBFKCTSVZAXUHGR&lid=LSTMOBFKCTSVZAXUHGREPBFGI&marketplace=FLIPKART\",\n",
    "                  \"https://www.flipkart.com/oneplus-u1s-164-cm-65-inch-ultra-hd-4k-led-smart-android-tv/product-reviews/itm8625fe03919f2?pid=TVSG3E9A3MNZUTQK&lid=LSTTVSG3E9A3MNZUTQK20TZNG&marketplace=FLIPKART\",\n",
    "                  \"https://www.flipkart.com/redmi-9-sporty-orange-64-gb/product-reviews/itm4fb151383983b?pid=MOBFV5FPCJC9ZKRB&lid=LSTMOBFV5FPCJC9ZKRBPIPCPK&marketplace=FLIPKART\",\n",
    "                  \"https://www.flipkart.com/motorola-g32-mineral-gray-64-gb/product-reviews/itmdcfa4c4022714?pid=MOBGEA3CZ8Z7HWCY&lid=LSTMOBGEA3CZ8Z7HWCYPHBSGA&aid=overall&certifiedBuyer=false&sortOrder=NEGATIVE_FIRST\"]"
   ]
  },
  {
   "cell_type": "code",
   "execution_count": 5,
   "id": "01dd7eda",
   "metadata": {},
   "outputs": [],
   "source": [
    "from selenium.webdriver.support.ui import WebDriverWait\n",
    "from selenium.webdriver.support import expected_conditions as EC\n",
    "from selenium.webdriver.common.by import By\n",
    "from selenium.common.exceptions import TimeoutException"
   ]
  },
  {
   "cell_type": "code",
   "execution_count": 6,
   "id": "dbb577f4",
   "metadata": {},
   "outputs": [],
   "source": [
    "#scrapping data from first 60 pages\n",
    "def scrap_mobile_data(reviews, ratings):\n",
    "    for i in range(60):\n",
    "        try : \n",
    "            #locating review webelement using XPATH\n",
    "            r = driver.find_elements(By.XPATH, \"//div[@class='col _2wzgFH K0kLPL']\")\n",
    "\n",
    "            #storing review and rating \n",
    "            for r in review:\n",
    "                li = r.text.split('\\n')\n",
    "                reviews.append(li[1])\n",
    "                ratings.append(li[0]) \n",
    "            \n",
    "            #next page\n",
    "            wait = WebDriverWait(driver, 10)\n",
    "            wait.until(EC.presence_of_element_located((By.PARTIAL_LINK_TEXT,\"NEXT\"))).click()\n",
    "\n",
    "        except TimeoutException :\n",
    "            break"
   ]
  },
  {
   "cell_type": "code",
   "execution_count": 7,
   "id": "dd8f39af",
   "metadata": {},
   "outputs": [],
   "source": [
    "reviews=[]\n",
    "ratings=[]\n",
    "l = len(mobile_url_link)\n",
    "for i in range(l):\n",
    "    driver.get(mobile_url_link[i])\n",
    "    scrap_mobile_data(reviews, ratings)\n",
    "    \n",
    "#converting into dataframe\n",
    "df = pd.DataFrame({'Reviews':reviews, 'Rating':ratings})"
   ]
  },
  {
   "cell_type": "code",
   "execution_count": 8,
   "id": "b87ff862",
   "metadata": {},
   "outputs": [],
   "source": [
    "#saving in csv\n",
    "df.to_csv(\"ReviewsDataSet1.csv\", index = False)"
   ]
  },
  {
   "cell_type": "markdown",
   "id": "8262d30f",
   "metadata": {},
   "source": [
    "#### **Importing requires libraries**"
   ]
  },
  {
   "cell_type": "code",
   "execution_count": 9,
   "id": "93fbcd7d",
   "metadata": {},
   "outputs": [],
   "source": [
    "import numpy as np\n",
    "import pandas as pd\n",
    "import matplotlib.pyplot as plt\n",
    "import seaborn as sns"
   ]
  },
  {
   "cell_type": "code",
   "execution_count": 10,
   "id": "d0001f76",
   "metadata": {},
   "outputs": [
    {
     "name": "stderr",
     "output_type": "stream",
     "text": [
      "[nltk_data] Downloading package stopwords to\n",
      "[nltk_data]     C:\\Users\\chira\\AppData\\Roaming\\nltk_data...\n",
      "[nltk_data]   Package stopwords is already up-to-date!\n",
      "[nltk_data] Downloading package punkt to\n",
      "[nltk_data]     C:\\Users\\chira\\AppData\\Roaming\\nltk_data...\n",
      "[nltk_data]   Package punkt is already up-to-date!\n"
     ]
    }
   ],
   "source": [
    "import string\n",
    "import nltk\n",
    "import re\n",
    "from nltk.stem import WordNetLemmatizer\n",
    "from nltk.corpus import stopwords\n",
    "nltk.download('stopwords') \n",
    "from nltk.tokenize import word_tokenize\n",
    "nltk.download('punkt')\n",
    "\n",
    "\n",
    "from sklearn.feature_extraction.text import TfidfVectorizer, CountVectorizer"
   ]
  },
  {
   "cell_type": "code",
   "execution_count": 11,
   "id": "4c65e169",
   "metadata": {},
   "outputs": [],
   "source": [
    "from sklearn.ensemble import RandomForestClassifier\n",
    "from sklearn.naive_bayes import MultinomialNB\n",
    "from sklearn.svm import SVC\n",
    "import warnings\n",
    "warnings.filterwarnings('ignore')"
   ]
  },
  {
   "cell_type": "code",
   "execution_count": 12,
   "id": "849852ad",
   "metadata": {},
   "outputs": [
    {
     "data": {
      "text/plain": [
       "(2000, 2)"
      ]
     },
     "execution_count": 12,
     "metadata": {},
     "output_type": "execute_result"
    }
   ],
   "source": [
    "df = pd.read_csv(\"ReviewsDataSet1.csv\")\n",
    "df.shape"
   ]
  },
  {
   "cell_type": "code",
   "execution_count": 13,
   "id": "7960848e",
   "metadata": {},
   "outputs": [
    {
     "data": {
      "text/plain": [
       "Index(['Reviews', 'Rating'], dtype='object')"
      ]
     },
     "execution_count": 13,
     "metadata": {},
     "output_type": "execute_result"
    }
   ],
   "source": [
    "df.columns"
   ]
  },
  {
   "cell_type": "code",
   "execution_count": 14,
   "id": "56bc17a8",
   "metadata": {},
   "outputs": [
    {
     "data": {
      "text/plain": [
       "Reviews    object\n",
       "Rating      int64\n",
       "dtype: object"
      ]
     },
     "execution_count": 14,
     "metadata": {},
     "output_type": "execute_result"
    }
   ],
   "source": [
    "df.dtypes"
   ]
  },
  {
   "cell_type": "code",
   "execution_count": 15,
   "id": "d168bd69",
   "metadata": {},
   "outputs": [],
   "source": [
    "df.reset_index(inplace = True, drop = True)"
   ]
  },
  {
   "cell_type": "code",
   "execution_count": 16,
   "id": "80af8fa5",
   "metadata": {},
   "outputs": [
    {
     "data": {
      "text/html": [
       "<div>\n",
       "<style scoped>\n",
       "    .dataframe tbody tr th:only-of-type {\n",
       "        vertical-align: middle;\n",
       "    }\n",
       "\n",
       "    .dataframe tbody tr th {\n",
       "        vertical-align: top;\n",
       "    }\n",
       "\n",
       "    .dataframe thead th {\n",
       "        text-align: right;\n",
       "    }\n",
       "</style>\n",
       "<table border=\"1\" class=\"dataframe\">\n",
       "  <thead>\n",
       "    <tr style=\"text-align: right;\">\n",
       "      <th></th>\n",
       "      <th>Reviews</th>\n",
       "      <th>Rating</th>\n",
       "      <th>Sentiment</th>\n",
       "    </tr>\n",
       "  </thead>\n",
       "  <tbody>\n",
       "    <tr>\n",
       "      <th>0</th>\n",
       "      <td>Fair</td>\n",
       "      <td>3</td>\n",
       "      <td>Neutral</td>\n",
       "    </tr>\n",
       "    <tr>\n",
       "      <th>1</th>\n",
       "      <td>Brilliant</td>\n",
       "      <td>5</td>\n",
       "      <td>Positive</td>\n",
       "    </tr>\n",
       "    <tr>\n",
       "      <th>2</th>\n",
       "      <td>Mind-blowing purchase</td>\n",
       "      <td>5</td>\n",
       "      <td>Positive</td>\n",
       "    </tr>\n",
       "    <tr>\n",
       "      <th>3</th>\n",
       "      <td>Wonderful</td>\n",
       "      <td>5</td>\n",
       "      <td>Positive</td>\n",
       "    </tr>\n",
       "    <tr>\n",
       "      <th>4</th>\n",
       "      <td>Does the job</td>\n",
       "      <td>3</td>\n",
       "      <td>Neutral</td>\n",
       "    </tr>\n",
       "  </tbody>\n",
       "</table>\n",
       "</div>"
      ],
      "text/plain": [
       "                 Reviews  Rating Sentiment\n",
       "0                   Fair       3   Neutral\n",
       "1              Brilliant       5  Positive\n",
       "2  Mind-blowing purchase       5  Positive\n",
       "3              Wonderful       5  Positive\n",
       "4           Does the job       3   Neutral"
      ]
     },
     "execution_count": 16,
     "metadata": {},
     "output_type": "execute_result"
    }
   ],
   "source": [
    "df['Sentiment'] = df['Rating'].map({5: \"Positive\", 1: \"Negative\", 2: \"Negative\", 3: \"Neutral\", 4: \"Positive\"})\n",
    "df.head()"
   ]
  },
  {
   "cell_type": "code",
   "execution_count": 17,
   "id": "3fe9cd12",
   "metadata": {},
   "outputs": [
    {
     "data": {
      "text/plain": [
       "array(['Neutral', 'Positive', 'Negative'], dtype=object)"
      ]
     },
     "execution_count": 17,
     "metadata": {},
     "output_type": "execute_result"
    }
   ],
   "source": [
    "df['Sentiment'].unique()"
   ]
  },
  {
   "cell_type": "code",
   "execution_count": 18,
   "id": "b037fe48",
   "metadata": {},
   "outputs": [
    {
     "data": {
      "text/html": [
       "<div>\n",
       "<style scoped>\n",
       "    .dataframe tbody tr th:only-of-type {\n",
       "        vertical-align: middle;\n",
       "    }\n",
       "\n",
       "    .dataframe tbody tr th {\n",
       "        vertical-align: top;\n",
       "    }\n",
       "\n",
       "    .dataframe thead th {\n",
       "        text-align: right;\n",
       "    }\n",
       "</style>\n",
       "<table border=\"1\" class=\"dataframe\">\n",
       "  <thead>\n",
       "    <tr style=\"text-align: right;\">\n",
       "      <th></th>\n",
       "      <th>Reviews</th>\n",
       "      <th>Sentiment</th>\n",
       "    </tr>\n",
       "  </thead>\n",
       "  <tbody>\n",
       "    <tr>\n",
       "      <th>0</th>\n",
       "      <td>Fair</td>\n",
       "      <td>Neutral</td>\n",
       "    </tr>\n",
       "    <tr>\n",
       "      <th>1</th>\n",
       "      <td>Brilliant</td>\n",
       "      <td>Positive</td>\n",
       "    </tr>\n",
       "    <tr>\n",
       "      <th>2</th>\n",
       "      <td>Mind-blowing purchase</td>\n",
       "      <td>Positive</td>\n",
       "    </tr>\n",
       "    <tr>\n",
       "      <th>3</th>\n",
       "      <td>Wonderful</td>\n",
       "      <td>Positive</td>\n",
       "    </tr>\n",
       "    <tr>\n",
       "      <th>4</th>\n",
       "      <td>Does the job</td>\n",
       "      <td>Neutral</td>\n",
       "    </tr>\n",
       "  </tbody>\n",
       "</table>\n",
       "</div>"
      ],
      "text/plain": [
       "                 Reviews Sentiment\n",
       "0                   Fair   Neutral\n",
       "1              Brilliant  Positive\n",
       "2  Mind-blowing purchase  Positive\n",
       "3              Wonderful  Positive\n",
       "4           Does the job   Neutral"
      ]
     },
     "execution_count": 18,
     "metadata": {},
     "output_type": "execute_result"
    }
   ],
   "source": [
    "df.drop([\"Rating\"], axis = 1, inplace = True)\n",
    "df.head()"
   ]
  },
  {
   "cell_type": "code",
   "execution_count": 19,
   "id": "22115059",
   "metadata": {},
   "outputs": [
    {
     "data": {
      "image/png": "[encoded data removed]",
      "text/plain": [
       "<Figure size 432x288 with 1 Axes>"
      ]
     },
     "metadata": {},
     "output_type": "display_data"
    }
   ],
   "source": [
    "plt.pie(df.Sentiment.value_counts().values, labels = df.Sentiment.value_counts().index)\n",
    "plt.show()"
   ]
  },
  {
   "cell_type": "code",
   "execution_count": 20,
   "id": "2c02d1f3",
   "metadata": {},
   "outputs": [
    {
     "data": {
      "text/plain": [
       "Positive    1120\n",
       "Negative     657\n",
       "Neutral      223\n",
       "Name: Sentiment, dtype: int64"
      ]
     },
     "execution_count": 20,
     "metadata": {},
     "output_type": "execute_result"
    },
    {
     "data": {
      "image/png": "[encoded data removed]",
      "text/plain": [
       "<Figure size 432x288 with 1 Axes>"
      ]
     },
     "metadata": {
      "needs_background": "light"
     },
     "output_type": "display_data"
    }
   ],
   "source": [
    "sns.countplot(x = 'Sentiment', data = df)\n",
    "df['Sentiment'].value_counts()"
   ]
  },
  {
   "cell_type": "markdown",
   "id": "94901487",
   "metadata": {},
   "source": [
    "## <u><center>Text Pre-processing</center></u>\n",
    "\n",
    "#### tokenization -> lowering + stopwords and punctuation removal -> lemmatization"
   ]
  },
  {
   "cell_type": "code",
   "execution_count": 21,
   "id": "c0f0aff1",
   "metadata": {},
   "outputs": [],
   "source": [
    "stops = set(stopwords.words('english'))\n",
    "punctuations = list(string.punctuation)\n",
    "stops.update(punctuations)\n",
    "\n",
    "# object for lemmatizer\n",
    "lemmatizer = WordNetLemmatizer()\n",
    "\n",
    "#removing 'not' from stop words\n",
    "stops.remove('not')"
   ]
  },
  {
   "cell_type": "code",
   "execution_count": 22,
   "id": "1bf8d625",
   "metadata": {},
   "outputs": [
    {
     "name": "stdout",
     "output_type": "stream",
     "text": [
      "True\n"
     ]
    }
   ],
   "source": [
    "if 'not' not in stops:\n",
    "    print(True)"
   ]
  },
  {
   "cell_type": "markdown",
   "id": "b05143bb",
   "metadata": {},
   "source": [
    "#### Cleaning Reviews"
   ]
  },
  {
   "cell_type": "code",
   "execution_count": 23,
   "id": "478a2edb",
   "metadata": {},
   "outputs": [],
   "source": [
    "# function to clean each tweets\n",
    "\n",
    "def clean_tweet(text):\n",
    "    words = word_tokenize(text)\n",
    "    \n",
    "    # Created empty a list to store the clean tweet words\n",
    "    output_words = []\n",
    "    \n",
    "    # traversing through each word, Ignoring the stopwords, punctuations, Checking whether word contains only alphabets?\n",
    "    for w in words:\n",
    "        \n",
    "        if w.lower() not in stops and w.lower().isalpha():\n",
    "            # applying lemmatizer \n",
    "            clean_word = lemmatizer.lemmatize(w)\n",
    "            output_words.append(clean_word.lower())\n",
    "            \n",
    "    #clean_sentence = [\" \".join(w) for w in output_words]\n",
    "    clean_sentence = \" \".join(output_words) \n",
    "    \n",
    "    return clean_sentence"
   ]
  },
  {
   "cell_type": "code",
   "execution_count": 24,
   "id": "fea113c9",
   "metadata": {
    "scrolled": true
   },
   "outputs": [],
   "source": [
    "df['Reviews'] = pd.DataFrame(df['Reviews'].apply(clean_tweet))"
   ]
  },
  {
   "cell_type": "code",
   "execution_count": 25,
   "id": "77d7938f",
   "metadata": {},
   "outputs": [
    {
     "data": {
      "text/html": [
       "<div>\n",
       "<style scoped>\n",
       "    .dataframe tbody tr th:only-of-type {\n",
       "        vertical-align: middle;\n",
       "    }\n",
       "\n",
       "    .dataframe tbody tr th {\n",
       "        vertical-align: top;\n",
       "    }\n",
       "\n",
       "    .dataframe thead th {\n",
       "        text-align: right;\n",
       "    }\n",
       "</style>\n",
       "<table border=\"1\" class=\"dataframe\">\n",
       "  <thead>\n",
       "    <tr style=\"text-align: right;\">\n",
       "      <th></th>\n",
       "      <th>Reviews</th>\n",
       "      <th>Sentiment</th>\n",
       "    </tr>\n",
       "  </thead>\n",
       "  <tbody>\n",
       "    <tr>\n",
       "      <th>0</th>\n",
       "      <td>fair</td>\n",
       "      <td>Neutral</td>\n",
       "    </tr>\n",
       "    <tr>\n",
       "      <th>1</th>\n",
       "      <td>brilliant</td>\n",
       "      <td>Positive</td>\n",
       "    </tr>\n",
       "    <tr>\n",
       "      <th>2</th>\n",
       "      <td>purchase</td>\n",
       "      <td>Positive</td>\n",
       "    </tr>\n",
       "    <tr>\n",
       "      <th>3</th>\n",
       "      <td>wonderful</td>\n",
       "      <td>Positive</td>\n",
       "    </tr>\n",
       "    <tr>\n",
       "      <th>4</th>\n",
       "      <td>job</td>\n",
       "      <td>Neutral</td>\n",
       "    </tr>\n",
       "  </tbody>\n",
       "</table>\n",
       "</div>"
      ],
      "text/plain": [
       "     Reviews Sentiment\n",
       "0       fair   Neutral\n",
       "1  brilliant  Positive\n",
       "2   purchase  Positive\n",
       "3  wonderful  Positive\n",
       "4        job   Neutral"
      ]
     },
     "execution_count": 25,
     "metadata": {},
     "output_type": "execute_result"
    }
   ],
   "source": [
    "df.head()"
   ]
  },
  {
   "cell_type": "code",
   "execution_count": 26,
   "id": "d5319e8d",
   "metadata": {},
   "outputs": [],
   "source": [
    "X = df[\"Reviews\"]\n",
    "y = df['Sentiment']\n",
    "from sklearn.model_selection import train_test_split\n",
    "X_train, X_test, y_train, y_test = train_test_split(X, y, random_state=1, test_size = 0.3)"
   ]
  },
  {
   "cell_type": "markdown",
   "id": "bdf84ae9",
   "metadata": {},
   "source": [
    "## <u><center>Feature Extraction</center></u>\n",
    "#### **Tfidf Vectorizer**"
   ]
  },
  {
   "cell_type": "code",
   "execution_count": 27,
   "id": "3fa2fbd8",
   "metadata": {
    "scrolled": true
   },
   "outputs": [
    {
     "name": "stdout",
     "output_type": "stream",
     "text": [
      "{'waste': 61, 'money': 36, 'classy': 11, 'product': 47, 'utterly': 60, 'disappointed': 16, 'perfect': 43, 'fabulous': 24, 'wow': 68, 'worst': 65, 'experience': 23, 'ever': 17, 'not': 39, 'meet': 34, 'expectation': 20, 'excellent': 19, 'unsatisfactory': 58, 'worth': 66, 'super': 55, 'good': 26, 'quality': 49, 'wonderful': 64, 'useless': 59, 'job': 32, 'delightful': 15, 'great': 27, 'awesome': 1, 'brilliant': 8, 'okay': 40, 'hated': 28, 'fair': 25, 'choice': 10, 'purchase': 48, 'every': 18, 'penny': 42, 'worthless': 67, 'best': 4, 'market': 33, 'absolute': 0, 'rubbish': 52, 'must': 37, 'buy': 9, 'horrible': 30, 'could': 13, 'way': 62, 'better': 5, 'terrific': 57, 'nice': 38, 'simply': 53, 'highly': 29, 'recommended': 51, 'pretty': 46, 'terrible': 56, 'bad': 2, 'decent': 14, 'poor': 45, 'expected': 21, 'moderate': 35, 'really': 50, 'well': 63, 'balanced': 3, 'phone': 44, 'slightly': 54, 'bit': 6, 'expensive': 22, 'oppo': 41, 'brand': 7, 'connectivity': 12, 'issue': 31}\n"
     ]
    }
   ],
   "source": [
    "tfid_vec = TfidfVectorizer(max_features=1000)\n",
    "\n",
    "X_train_transformed = tfid_vec.fit_transform(X_train)\n",
    "X_test_transformed = tfid_vec.transform(X_test)\n",
    "\n",
    "# summarize\n",
    "print(tfid_vec.vocabulary_)"
   ]
  },
  {
   "cell_type": "code",
   "execution_count": 28,
   "id": "6171d0e7",
   "metadata": {},
   "outputs": [
    {
     "data": {
      "text/plain": [
       "['absolute',\n",
       " 'awesome',\n",
       " 'bad',\n",
       " 'balanced',\n",
       " 'best',\n",
       " 'better',\n",
       " 'bit',\n",
       " 'brand',\n",
       " 'brilliant',\n",
       " 'buy',\n",
       " 'choice',\n",
       " 'classy',\n",
       " 'connectivity',\n",
       " 'could',\n",
       " 'decent',\n",
       " 'delightful',\n",
       " 'disappointed',\n",
       " 'ever',\n",
       " 'every',\n",
       " 'excellent',\n",
       " 'expectation',\n",
       " 'expected',\n",
       " 'expensive',\n",
       " 'experience',\n",
       " 'fabulous',\n",
       " 'fair',\n",
       " 'good',\n",
       " 'great',\n",
       " 'hated',\n",
       " 'highly',\n",
       " 'horrible',\n",
       " 'issue',\n",
       " 'job',\n",
       " 'market',\n",
       " 'meet',\n",
       " 'moderate',\n",
       " 'money',\n",
       " 'must',\n",
       " 'nice',\n",
       " 'not',\n",
       " 'okay',\n",
       " 'oppo',\n",
       " 'penny',\n",
       " 'perfect',\n",
       " 'phone',\n",
       " 'poor',\n",
       " 'pretty',\n",
       " 'product',\n",
       " 'purchase',\n",
       " 'quality',\n",
       " 'really',\n",
       " 'recommended',\n",
       " 'rubbish',\n",
       " 'simply',\n",
       " 'slightly',\n",
       " 'super',\n",
       " 'terrible',\n",
       " 'terrific',\n",
       " 'unsatisfactory',\n",
       " 'useless',\n",
       " 'utterly',\n",
       " 'waste',\n",
       " 'way',\n",
       " 'well',\n",
       " 'wonderful',\n",
       " 'worst',\n",
       " 'worth',\n",
       " 'worthless',\n",
       " 'wow']"
      ]
     },
     "execution_count": 28,
     "metadata": {},
     "output_type": "execute_result"
    }
   ],
   "source": [
    "tfid_vec.get_feature_names()"
   ]
  },
  {
   "cell_type": "markdown",
   "id": "c624713a",
   "metadata": {},
   "source": [
    "## <u><center>Model Building</center></u>"
   ]
  },
  {
   "cell_type": "markdown",
   "id": "294e872b",
   "metadata": {},
   "source": [
    "#### <u><center> Random Forest Classifier, MultinomialNB, SVC</center></u>"
   ]
  },
  {
   "cell_type": "code",
   "execution_count": 29,
   "id": "e99636a8",
   "metadata": {},
   "outputs": [
    {
     "data": {
      "text/plain": [
       "[SVC(), MultinomialNB(), RandomForestClassifier()]"
      ]
     },
     "execution_count": 29,
     "metadata": {},
     "output_type": "execute_result"
    }
   ],
   "source": [
    "rf = RandomForestClassifier()\n",
    "svc = SVC()\n",
    "mnb = MultinomialNB()\n",
    "model = [ svc, mnb, rf]\n",
    "model_name =[m for m in model]\n",
    "model_name"
   ]
  },
  {
   "cell_type": "code",
   "execution_count": 30,
   "id": "62639cbf",
   "metadata": {},
   "outputs": [],
   "source": [
    "from sklearn.model_selection import cross_val_score\n",
    "from sklearn import metrics\n",
    "from sklearn.metrics import confusion_matrix, classification_report"
   ]
  },
  {
   "cell_type": "code",
   "execution_count": 31,
   "id": "d3073c5d",
   "metadata": {},
   "outputs": [
    {
     "name": "stdout",
     "output_type": "stream",
     "text": [
      "SVC() score is 0.9842857142857143\n",
      "cross vali:  [0.98928571 0.99285714 0.98928571 0.97857143 0.96785714]  avg => 0.9835714285714285 \n",
      "\n",
      "accuracy :  0.9783333333333334,   F1 score :  0.9785256336931503\n",
      "--------------------------------------------------\n",
      "MultinomialNB() score is 0.965\n",
      "cross vali:  [0.975      0.94642857 0.97142857 0.96785714 0.96785714]  avg => 0.9657142857142856 \n",
      "\n",
      "accuracy :  0.9666666666666667,   F1 score :  0.9654860802269767\n",
      "--------------------------------------------------\n",
      "RandomForestClassifier() score is 0.9842857142857143\n",
      "cross vali:  [0.98928571 0.99285714 0.98928571 0.97857143 0.96785714]  avg => 0.9835714285714285 \n",
      "\n",
      "accuracy :  0.9783333333333334,   F1 score :  0.9785256336931503\n",
      "--------------------------------------------------\n"
     ]
    }
   ],
   "source": [
    "for m in model:\n",
    "    m.fit(X_train_transformed, y_train)\n",
    "    print(m, \"score is\", m.score(X_train_transformed, y_train))\n",
    "    cs = cross_val_score(m, X_train_transformed , y_train, cv=5)\n",
    "    print(\"cross vali: \",cs, \" avg =>\", cs.mean(), '\\n')\n",
    "    \n",
    "    y_pred1 = m.predict(X_test_transformed)\n",
    "    # accuracy\n",
    "    print(\"accuracy : \", metrics.accuracy_score(y_test, y_pred1), end = ',   ')\n",
    "\n",
    "    # precision\n",
    "    print(\"F1 score : \", metrics.f1_score(y_test, y_pred1, average='weighted'))\n",
    "\n",
    "    print('-'*50)"
   ]
  },
  {
   "cell_type": "markdown",
   "id": "2c66feda",
   "metadata": {},
   "source": [
    "## svc is performing best so training model with svc"
   ]
  },
  {
   "cell_type": "code",
   "execution_count": 32,
   "id": "8e4391cf",
   "metadata": {},
   "outputs": [
    {
     "name": "stdout",
     "output_type": "stream",
     "text": [
      "              precision    recall  f1-score   support\n",
      "\n",
      "    Negative       0.99      0.98      0.99       196\n",
      "     Neutral       0.90      0.96      0.93        68\n",
      "    Positive       0.99      0.98      0.98       336\n",
      "\n",
      "    accuracy                           0.98       600\n",
      "   macro avg       0.96      0.97      0.97       600\n",
      "weighted avg       0.98      0.98      0.98       600\n",
      "\n"
     ]
    }
   ],
   "source": [
    "final_model = SVC()\n",
    "final_model.fit(X_train_transformed , y_train)\n",
    "y_pred1 = final_model.predict(X_test_transformed)\n",
    "print(classification_report(y_test, y_pred1))"
   ]
  },
  {
   "cell_type": "markdown",
   "id": "2522eb86",
   "metadata": {},
   "source": [
    "## <u><center>Prediction on new Reviews</center></u>"
   ]
  },
  {
   "cell_type": "code",
   "execution_count": 33,
   "id": "ef2c913b",
   "metadata": {},
   "outputs": [],
   "source": [
    "reviews = [['Unsatisfactory , WASTE OF MONEY'],\n",
    "          ['Good, Just okay!'],\n",
    "          ['Highly recommended'],\n",
    "          ['Did not meet expectations'],\n",
    "          ['Very Good, Great product, Awesome'],\n",
    "          ['Think before buying through flipkart']]"
   ]
  },
  {
   "cell_type": "code",
   "execution_count": 34,
   "id": "2bb23b42",
   "metadata": {},
   "outputs": [
    {
     "name": "stdout",
     "output_type": "stream",
     "text": [
      "Unsatisfactory , WASTE OF MONEY ---------- Prected as -------------------- ['Negative']\n",
      "\n",
      "Good, Just okay! ---------- Prected as -------------------- ['Neutral']\n",
      "\n",
      "Highly recommended ---------- Prected as -------------------- ['Positive']\n",
      "\n",
      "Did not meet expectations ---------- Prected as -------------------- ['Negative']\n",
      "\n",
      "Very Good, Great product, Awesome ---------- Prected as -------------------- ['Positive']\n",
      "\n",
      "Think before buying through flipkart ---------- Prected as -------------------- ['Positive']\n",
      "\n"
     ]
    }
   ],
   "source": [
    "for i in range(6):\n",
    "    print(reviews[i][0], '-'*10, \"Prected as\",'-'*20, final_model.predict(tfid_vec.transform(reviews[i])))\n",
    "    print()"
   ]
  }
 ],
 "metadata": {
  "kernelspec": {
   "display_name": "Python 3 (ipykernel)",
   "language": "python",
   "name": "python3"
  },
  "language_info": {
   "codemirror_mode": {
    "name": "ipython",
    "version": 3
   },
   "file_extension": ".py",
   "mimetype": "text/x-python",
   "name": "python",
   "nbconvert_exporter": "python",
   "pygments_lexer": "ipython3",
   "version": "3.9.7"
  }
 },
 "nbformat": 4,
 "nbformat_minor": 5
}
