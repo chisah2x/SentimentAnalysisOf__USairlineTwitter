{
 "cells": [
  {
   "cell_type": "markdown",
   "id": "8f7c90a1",
   "metadata": {},
   "source": [
    "# <u><center>Twitter Sentiment Analysis : US Airline</center></u>"
   ]
  },
  {
   "cell_type": "markdown",
   "id": "8262d30f",
   "metadata": {},
   "source": [
    "#### **Importing requires libraries**"
   ]
  },
  {
   "cell_type": "code",
   "execution_count": 1,
   "id": "93fbcd7d",
   "metadata": {},
   "outputs": [],
   "source": [
    "import numpy as np\n",
    "import pandas as pd\n",
    "import matplotlib.pyplot as plt\n",
    "import seaborn as sns"
   ]
  },
  {
   "cell_type": "code",
   "execution_count": 2,
   "id": "d0001f76",
   "metadata": {},
   "outputs": [
    {
     "name": "stderr",
     "output_type": "stream",
     "text": [
      "[nltk_data] Downloading package stopwords to\n",
      "[nltk_data]     C:\\Users\\chira\\AppData\\Roaming\\nltk_data...\n",
      "[nltk_data]   Package stopwords is already up-to-date!\n",
      "[nltk_data] Downloading package punkt to\n",
      "[nltk_data]     C:\\Users\\chira\\AppData\\Roaming\\nltk_data...\n",
      "[nltk_data]   Package punkt is already up-to-date!\n"
     ]
    }
   ],
   "source": [
    "import string\n",
    "import nltk\n",
    "import re\n",
    "from nltk.stem import WordNetLemmatizer\n",
    "from nltk.corpus import stopwords\n",
    "nltk.download('stopwords') \n",
    "from nltk.tokenize import word_tokenize\n",
    "nltk.download('punkt')\n",
    "\n",
    "\n",
    "from sklearn.feature_extraction.text import TfidfVectorizer, CountVectorizer"
   ]
  },
  {
   "cell_type": "code",
   "execution_count": 3,
   "id": "4c65e169",
   "metadata": {},
   "outputs": [],
   "source": [
    "from sklearn.ensemble import RandomForestClassifier\n",
    "from sklearn.naive_bayes import MultinomialNB\n",
    "from sklearn.svm import SVC\n",
    "from sklearn.model_selection import cross_val_score\n",
    "import warnings\n",
    "warnings.filterwarnings('ignore')"
   ]
  },
  {
   "cell_type": "markdown",
   "id": "0b97afd0",
   "metadata": {},
   "source": [
    "#### **Reading the training and testing csv files**"
   ]
  },
  {
   "cell_type": "code",
   "execution_count": 4,
   "id": "849852ad",
   "metadata": {},
   "outputs": [
    {
     "data": {
      "text/plain": [
       "((10980, 12), (3660, 11))"
      ]
     },
     "execution_count": 4,
     "metadata": {},
     "output_type": "execute_result"
    }
   ],
   "source": [
    "df_training = pd.read_csv(\"twitter_x_y_train.csv\")\n",
    "df_testing = pd.read_csv(\"twitter_x_test.csv\")\n",
    "df_training.shape, df_testing.shape"
   ]
  },
  {
   "cell_type": "code",
   "execution_count": 5,
   "id": "a3caa2c5",
   "metadata": {},
   "outputs": [
    {
     "data": {
      "text/html": [
       "<div>\n",
       "<style scoped>\n",
       "    .dataframe tbody tr th:only-of-type {\n",
       "        vertical-align: middle;\n",
       "    }\n",
       "\n",
       "    .dataframe tbody tr th {\n",
       "        vertical-align: top;\n",
       "    }\n",
       "\n",
       "    .dataframe thead th {\n",
       "        text-align: right;\n",
       "    }\n",
       "</style>\n",
       "<table border=\"1\" class=\"dataframe\">\n",
       "  <thead>\n",
       "    <tr style=\"text-align: right;\">\n",
       "      <th></th>\n",
       "      <th>tweet_id</th>\n",
       "      <th>airline_sentiment</th>\n",
       "      <th>airline</th>\n",
       "      <th>airline_sentiment_gold</th>\n",
       "      <th>name</th>\n",
       "      <th>negativereason_gold</th>\n",
       "      <th>retweet_count</th>\n",
       "      <th>text</th>\n",
       "      <th>tweet_coord</th>\n",
       "      <th>tweet_created</th>\n",
       "      <th>tweet_location</th>\n",
       "      <th>user_timezone</th>\n",
       "    </tr>\n",
       "  </thead>\n",
       "  <tbody>\n",
       "    <tr>\n",
       "      <th>0</th>\n",
       "      <td>567900433542488064</td>\n",
       "      <td>negative</td>\n",
       "      <td>Southwest</td>\n",
       "      <td>NaN</td>\n",
       "      <td>ColeyGirouard</td>\n",
       "      <td>NaN</td>\n",
       "      <td>0</td>\n",
       "      <td>@SouthwestAir I am scheduled for the morning, ...</td>\n",
       "      <td>NaN</td>\n",
       "      <td>2015-02-17 20:16:29 -0800</td>\n",
       "      <td>Washington D.C.</td>\n",
       "      <td>Atlantic Time (Canada)</td>\n",
       "    </tr>\n",
       "    <tr>\n",
       "      <th>1</th>\n",
       "      <td>569989168903819264</td>\n",
       "      <td>positive</td>\n",
       "      <td>Southwest</td>\n",
       "      <td>NaN</td>\n",
       "      <td>WalterFaddoul</td>\n",
       "      <td>NaN</td>\n",
       "      <td>0</td>\n",
       "      <td>@SouthwestAir seeing your workers time in and ...</td>\n",
       "      <td>NaN</td>\n",
       "      <td>2015-02-23 14:36:22 -0800</td>\n",
       "      <td>Indianapolis, Indiana; USA</td>\n",
       "      <td>Central Time (US &amp; Canada)</td>\n",
       "    </tr>\n",
       "  </tbody>\n",
       "</table>\n",
       "</div>"
      ],
      "text/plain": [
       "             tweet_id airline_sentiment    airline airline_sentiment_gold  \\\n",
       "0  567900433542488064          negative  Southwest                    NaN   \n",
       "1  569989168903819264          positive  Southwest                    NaN   \n",
       "\n",
       "            name negativereason_gold  retweet_count  \\\n",
       "0  ColeyGirouard                 NaN              0   \n",
       "1  WalterFaddoul                 NaN              0   \n",
       "\n",
       "                                                text tweet_coord  \\\n",
       "0  @SouthwestAir I am scheduled for the morning, ...         NaN   \n",
       "1  @SouthwestAir seeing your workers time in and ...         NaN   \n",
       "\n",
       "               tweet_created              tweet_location  \\\n",
       "0  2015-02-17 20:16:29 -0800             Washington D.C.   \n",
       "1  2015-02-23 14:36:22 -0800  Indianapolis, Indiana; USA   \n",
       "\n",
       "                user_timezone  \n",
       "0      Atlantic Time (Canada)  \n",
       "1  Central Time (US & Canada)  "
      ]
     },
     "execution_count": 5,
     "metadata": {},
     "output_type": "execute_result"
    }
   ],
   "source": [
    "df_training.head(2)"
   ]
  },
  {
   "cell_type": "code",
   "execution_count": 6,
   "id": "4b08a733",
   "metadata": {},
   "outputs": [
    {
     "data": {
      "text/plain": [
       "['airline_sentiment_gold',\n",
       " 'negativereason_gold',\n",
       " 'tweet_coord',\n",
       " 'tweet_location',\n",
       " 'user_timezone']"
      ]
     },
     "execution_count": 6,
     "metadata": {},
     "output_type": "execute_result"
    }
   ],
   "source": [
    "feat_with_null = [feature for feature in df_training.columns if df_training[feature].isnull().sum() > 0]\n",
    "feat_with_null"
   ]
  },
  {
   "cell_type": "code",
   "execution_count": 7,
   "id": "a1d458f4",
   "metadata": {},
   "outputs": [
    {
     "data": {
      "text/plain": [
       "Index(['tweet_id', 'airline_sentiment', 'airline', 'airline_sentiment_gold',\n",
       "       'name', 'negativereason_gold', 'retweet_count', 'text', 'tweet_coord',\n",
       "       'tweet_created', 'tweet_location', 'user_timezone'],\n",
       "      dtype='object')"
      ]
     },
     "execution_count": 7,
     "metadata": {},
     "output_type": "execute_result"
    }
   ],
   "source": [
    "df_training.columns"
   ]
  },
  {
   "cell_type": "code",
   "execution_count": 8,
   "id": "950c7b59",
   "metadata": {},
   "outputs": [
    {
     "data": {
      "text/plain": [
       "negative    6851\n",
       "neutral     2327\n",
       "positive    1802\n",
       "Name: airline_sentiment, dtype: int64"
      ]
     },
     "execution_count": 8,
     "metadata": {},
     "output_type": "execute_result"
    }
   ],
   "source": [
    "df_training.airline_sentiment.value_counts()"
   ]
  },
  {
   "cell_type": "code",
   "execution_count": 9,
   "id": "22115059",
   "metadata": {},
   "outputs": [
    {
     "data": {
      "image/png": "[encoded data removed]",
      "text/plain": [
       "<Figure size 432x288 with 1 Axes>"
      ]
     },
     "metadata": {},
     "output_type": "display_data"
    }
   ],
   "source": [
    "plt.pie(df_training.airline_sentiment.value_counts().values, labels = df_training.airline_sentiment.value_counts().index)\n",
    "plt.show()"
   ]
  },
  {
   "cell_type": "code",
   "execution_count": 10,
   "id": "2c02d1f3",
   "metadata": {},
   "outputs": [
    {
     "data": {
      "text/plain": [
       "negative    6851\n",
       "neutral     2327\n",
       "positive    1802\n",
       "Name: airline_sentiment, dtype: int64"
      ]
     },
     "execution_count": 10,
     "metadata": {},
     "output_type": "execute_result"
    },
    {
     "data": {
      "image/png": "[encoded data removed]",
      "text/plain": [
       "<Figure size 432x288 with 1 Axes>"
      ]
     },
     "metadata": {
      "needs_background": "light"
     },
     "output_type": "display_data"
    }
   ],
   "source": [
    "sns.countplot(x = 'airline_sentiment', data = df_training)\n",
    "df_training['airline_sentiment'].value_counts()"
   ]
  },
  {
   "cell_type": "markdown",
   "id": "466395fb",
   "metadata": {},
   "source": [
    "#### **Exracting the tweets and sentiments of training data**"
   ]
  },
  {
   "cell_type": "code",
   "execution_count": 11,
   "id": "90d44667",
   "metadata": {},
   "outputs": [
    {
     "data": {
      "text/html": [
       "<div>\n",
       "<style scoped>\n",
       "    .dataframe tbody tr th:only-of-type {\n",
       "        vertical-align: middle;\n",
       "    }\n",
       "\n",
       "    .dataframe tbody tr th {\n",
       "        vertical-align: top;\n",
       "    }\n",
       "\n",
       "    .dataframe thead th {\n",
       "        text-align: right;\n",
       "    }\n",
       "</style>\n",
       "<table border=\"1\" class=\"dataframe\">\n",
       "  <thead>\n",
       "    <tr style=\"text-align: right;\">\n",
       "      <th></th>\n",
       "      <th>text</th>\n",
       "      <th>airline_sentiment</th>\n",
       "    </tr>\n",
       "  </thead>\n",
       "  <tbody>\n",
       "    <tr>\n",
       "      <th>0</th>\n",
       "      <td>@SouthwestAir I am scheduled for the morning, ...</td>\n",
       "      <td>negative</td>\n",
       "    </tr>\n",
       "    <tr>\n",
       "      <th>1</th>\n",
       "      <td>@SouthwestAir seeing your workers time in and ...</td>\n",
       "      <td>positive</td>\n",
       "    </tr>\n",
       "    <tr>\n",
       "      <th>2</th>\n",
       "      <td>@united Flew ORD to Miami and back and  had gr...</td>\n",
       "      <td>positive</td>\n",
       "    </tr>\n",
       "    <tr>\n",
       "      <th>3</th>\n",
       "      <td>@SouthwestAir @dultch97 that's horse radish 😤🐴</td>\n",
       "      <td>negative</td>\n",
       "    </tr>\n",
       "    <tr>\n",
       "      <th>4</th>\n",
       "      <td>@united so our flight into ORD was delayed bec...</td>\n",
       "      <td>negative</td>\n",
       "    </tr>\n",
       "  </tbody>\n",
       "</table>\n",
       "</div>"
      ],
      "text/plain": [
       "                                                text airline_sentiment\n",
       "0  @SouthwestAir I am scheduled for the morning, ...          negative\n",
       "1  @SouthwestAir seeing your workers time in and ...          positive\n",
       "2  @united Flew ORD to Miami and back and  had gr...          positive\n",
       "3     @SouthwestAir @dultch97 that's horse radish 😤🐴          negative\n",
       "4  @united so our flight into ORD was delayed bec...          negative"
      ]
     },
     "execution_count": 11,
     "metadata": {},
     "output_type": "execute_result"
    }
   ],
   "source": [
    "df_train = df_training[['text', 'airline_sentiment']]\n",
    "df_train.head()"
   ]
  },
  {
   "cell_type": "markdown",
   "id": "94901487",
   "metadata": {},
   "source": [
    "## <u><center>Text Pre-processing</center></u>\n",
    "\n",
    "#### tokenization -> lowering -> stopwords and punctuation removal -> lemmatization"
   ]
  },
  {
   "cell_type": "code",
   "execution_count": 12,
   "id": "c0f0aff1",
   "metadata": {},
   "outputs": [],
   "source": [
    "stops = set(stopwords.words('english'))\n",
    "punctuations = list(string.punctuation)\n",
    "stops.update(punctuations)\n",
    "\n",
    "# object for lemmatizer\n",
    "lemmatizer = WordNetLemmatizer()\n",
    "\n",
    "#removing 'not' from stop words"
   ]
  },
  {
   "cell_type": "code",
   "execution_count": 13,
   "id": "7d7ae26b",
   "metadata": {},
   "outputs": [
    {
     "data": {
      "text/html": [
       "<div>\n",
       "<style scoped>\n",
       "    .dataframe tbody tr th:only-of-type {\n",
       "        vertical-align: middle;\n",
       "    }\n",
       "\n",
       "    .dataframe tbody tr th {\n",
       "        vertical-align: top;\n",
       "    }\n",
       "\n",
       "    .dataframe thead th {\n",
       "        text-align: right;\n",
       "    }\n",
       "</style>\n",
       "<table border=\"1\" class=\"dataframe\">\n",
       "  <thead>\n",
       "    <tr style=\"text-align: right;\">\n",
       "      <th></th>\n",
       "      <th>text</th>\n",
       "      <th>airline_sentiment</th>\n",
       "    </tr>\n",
       "  </thead>\n",
       "  <tbody>\n",
       "    <tr>\n",
       "      <th>0</th>\n",
       "      <td>@SouthwestAir I am scheduled for the morning, ...</td>\n",
       "      <td>negative</td>\n",
       "    </tr>\n",
       "    <tr>\n",
       "      <th>1</th>\n",
       "      <td>@SouthwestAir seeing your workers time in and ...</td>\n",
       "      <td>positive</td>\n",
       "    </tr>\n",
       "    <tr>\n",
       "      <th>2</th>\n",
       "      <td>@united Flew ORD to Miami and back and  had gr...</td>\n",
       "      <td>positive</td>\n",
       "    </tr>\n",
       "    <tr>\n",
       "      <th>3</th>\n",
       "      <td>@SouthwestAir @dultch97 that's horse radish 😤🐴</td>\n",
       "      <td>negative</td>\n",
       "    </tr>\n",
       "    <tr>\n",
       "      <th>4</th>\n",
       "      <td>@united so our flight into ORD was delayed bec...</td>\n",
       "      <td>negative</td>\n",
       "    </tr>\n",
       "  </tbody>\n",
       "</table>\n",
       "</div>"
      ],
      "text/plain": [
       "                                                text airline_sentiment\n",
       "0  @SouthwestAir I am scheduled for the morning, ...          negative\n",
       "1  @SouthwestAir seeing your workers time in and ...          positive\n",
       "2  @united Flew ORD to Miami and back and  had gr...          positive\n",
       "3     @SouthwestAir @dultch97 that's horse radish 😤🐴          negative\n",
       "4  @united so our flight into ORD was delayed bec...          negative"
      ]
     },
     "execution_count": 13,
     "metadata": {},
     "output_type": "execute_result"
    }
   ],
   "source": [
    "df_train.head()"
   ]
  },
  {
   "cell_type": "markdown",
   "id": "60a522c3",
   "metadata": {
    "scrolled": true
   },
   "source": [
    "### Sample Cleaning of one tweet"
   ]
  },
  {
   "cell_type": "code",
   "execution_count": 14,
   "id": "20b54ea6",
   "metadata": {},
   "outputs": [
    {
     "name": "stdout",
     "output_type": "stream",
     "text": [
      "['@', 'SouthwestAir', '@', 'dultch97', 'that', \"'s\", 'horse', 'radish', '😤🐴']\n",
      "\n",
      "['southwestair', 'horse', 'radish']\n",
      "\n"
     ]
    },
    {
     "data": {
      "text/plain": [
       "'southwestair horse radish'"
      ]
     },
     "execution_count": 14,
     "metadata": {},
     "output_type": "execute_result"
    }
   ],
   "source": [
    "words = word_tokenize(\"@SouthwestAir @dultch97 that's horse radish 😤🐴\")\n",
    "print(words)\n",
    "print()\n",
    "output_words=[]\n",
    "for w in words:\n",
    "    if w.lower() not in stops and w.lower().isalpha():\n",
    "            # applying lemmatizer \n",
    "        clean_word = lemmatizer.lemmatize(w)\n",
    "        output_words.append(clean_word.lower())\n",
    "print(output_words)\n",
    "print()\n",
    "\" \".join(output_words) "
   ]
  },
  {
   "cell_type": "markdown",
   "id": "b05143bb",
   "metadata": {},
   "source": [
    "### Cleaning all Tweets"
   ]
  },
  {
   "cell_type": "code",
   "execution_count": 15,
   "id": "478a2edb",
   "metadata": {},
   "outputs": [],
   "source": [
    "# function to clean each tweets\n",
    "def clean_tweet(text):\n",
    "    words = word_tokenize(text)\n",
    "    # Created empty a list to store the clean tweet words\n",
    "    output_words = []\n",
    "    # traversing through each word, Ignoring the stopwords, punctuations, Checking whether word contains only alphabets?\n",
    "    for w in words:\n",
    "        if w.lower() not in stops and w.lower().isalpha():\n",
    "            # applying lemmatizer \n",
    "            clean_word = lemmatizer.lemmatize(w)\n",
    "            output_words.append(clean_word.lower())\n",
    "            \n",
    "    #clean_sentence = [\" \".join(w) for w in output_words]\n",
    "    clean_sentence = \" \".join(output_words) \n",
    "    \n",
    "    return clean_sentence"
   ]
  },
  {
   "cell_type": "code",
   "execution_count": 16,
   "id": "fea113c9",
   "metadata": {},
   "outputs": [
    {
     "data": {
      "text/html": [
       "<div>\n",
       "<style scoped>\n",
       "    .dataframe tbody tr th:only-of-type {\n",
       "        vertical-align: middle;\n",
       "    }\n",
       "\n",
       "    .dataframe tbody tr th {\n",
       "        vertical-align: top;\n",
       "    }\n",
       "\n",
       "    .dataframe thead th {\n",
       "        text-align: right;\n",
       "    }\n",
       "</style>\n",
       "<table border=\"1\" class=\"dataframe\">\n",
       "  <thead>\n",
       "    <tr style=\"text-align: right;\">\n",
       "      <th></th>\n",
       "      <th>text</th>\n",
       "      <th>airline_sentiment</th>\n",
       "      <th>clean_text</th>\n",
       "    </tr>\n",
       "  </thead>\n",
       "  <tbody>\n",
       "    <tr>\n",
       "      <th>0</th>\n",
       "      <td>@SouthwestAir I am scheduled for the morning, ...</td>\n",
       "      <td>negative</td>\n",
       "      <td>southwestair scheduled morning day fact yes su...</td>\n",
       "    </tr>\n",
       "    <tr>\n",
       "      <th>1</th>\n",
       "      <td>@SouthwestAir seeing your workers time in and ...</td>\n",
       "      <td>positive</td>\n",
       "      <td>southwestair seeing worker time time going bey...</td>\n",
       "    </tr>\n",
       "  </tbody>\n",
       "</table>\n",
       "</div>"
      ],
      "text/plain": [
       "                                                text airline_sentiment  \\\n",
       "0  @SouthwestAir I am scheduled for the morning, ...          negative   \n",
       "1  @SouthwestAir seeing your workers time in and ...          positive   \n",
       "\n",
       "                                          clean_text  \n",
       "0  southwestair scheduled morning day fact yes su...  \n",
       "1  southwestair seeing worker time time going bey...  "
      ]
     },
     "execution_count": 16,
     "metadata": {},
     "output_type": "execute_result"
    }
   ],
   "source": [
    "df_train['clean_text'] = pd.DataFrame(df_train['text'].apply(clean_tweet))\n",
    "df_train.head(2)"
   ]
  },
  {
   "cell_type": "code",
   "execution_count": 17,
   "id": "90c6d0e5",
   "metadata": {},
   "outputs": [
    {
     "data": {
      "text/html": [
       "<div>\n",
       "<style scoped>\n",
       "    .dataframe tbody tr th:only-of-type {\n",
       "        vertical-align: middle;\n",
       "    }\n",
       "\n",
       "    .dataframe tbody tr th {\n",
       "        vertical-align: top;\n",
       "    }\n",
       "\n",
       "    .dataframe thead th {\n",
       "        text-align: right;\n",
       "    }\n",
       "</style>\n",
       "<table border=\"1\" class=\"dataframe\">\n",
       "  <thead>\n",
       "    <tr style=\"text-align: right;\">\n",
       "      <th></th>\n",
       "      <th>airline_sentiment</th>\n",
       "      <th>clean_text</th>\n",
       "    </tr>\n",
       "  </thead>\n",
       "  <tbody>\n",
       "    <tr>\n",
       "      <th>0</th>\n",
       "      <td>negative</td>\n",
       "      <td>southwestair scheduled morning day fact yes su...</td>\n",
       "    </tr>\n",
       "    <tr>\n",
       "      <th>1</th>\n",
       "      <td>positive</td>\n",
       "      <td>southwestair seeing worker time time going bey...</td>\n",
       "    </tr>\n",
       "  </tbody>\n",
       "</table>\n",
       "</div>"
      ],
      "text/plain": [
       "  airline_sentiment                                         clean_text\n",
       "0          negative  southwestair scheduled morning day fact yes su...\n",
       "1          positive  southwestair seeing worker time time going bey..."
      ]
     },
     "execution_count": 17,
     "metadata": {},
     "output_type": "execute_result"
    }
   ],
   "source": [
    "df_train.drop(['text'], axis = 1, inplace = True)\n",
    "df_train.head(2)"
   ]
  },
  {
   "cell_type": "code",
   "execution_count": 18,
   "id": "b989004e",
   "metadata": {},
   "outputs": [
    {
     "data": {
      "text/html": [
       "<div>\n",
       "<style scoped>\n",
       "    .dataframe tbody tr th:only-of-type {\n",
       "        vertical-align: middle;\n",
       "    }\n",
       "\n",
       "    .dataframe tbody tr th {\n",
       "        vertical-align: top;\n",
       "    }\n",
       "\n",
       "    .dataframe thead th {\n",
       "        text-align: right;\n",
       "    }\n",
       "</style>\n",
       "<table border=\"1\" class=\"dataframe\">\n",
       "  <thead>\n",
       "    <tr style=\"text-align: right;\">\n",
       "      <th></th>\n",
       "      <th>text</th>\n",
       "    </tr>\n",
       "  </thead>\n",
       "  <tbody>\n",
       "    <tr>\n",
       "      <th>0</th>\n",
       "      <td>@AmericanAir In car gng to DFW. Pulled over 1h...</td>\n",
       "    </tr>\n",
       "    <tr>\n",
       "      <th>1</th>\n",
       "      <td>@AmericanAir after all, the plane didn’t land ...</td>\n",
       "    </tr>\n",
       "  </tbody>\n",
       "</table>\n",
       "</div>"
      ],
      "text/plain": [
       "                                                text\n",
       "0  @AmericanAir In car gng to DFW. Pulled over 1h...\n",
       "1  @AmericanAir after all, the plane didn’t land ..."
      ]
     },
     "execution_count": 18,
     "metadata": {},
     "output_type": "execute_result"
    }
   ],
   "source": [
    "df_test = df_testing[['text']]\n",
    "df_test.head(2)"
   ]
  },
  {
   "cell_type": "code",
   "execution_count": 19,
   "id": "97c30ff8",
   "metadata": {},
   "outputs": [
    {
     "data": {
      "text/html": [
       "<div>\n",
       "<style scoped>\n",
       "    .dataframe tbody tr th:only-of-type {\n",
       "        vertical-align: middle;\n",
       "    }\n",
       "\n",
       "    .dataframe tbody tr th {\n",
       "        vertical-align: top;\n",
       "    }\n",
       "\n",
       "    .dataframe thead th {\n",
       "        text-align: right;\n",
       "    }\n",
       "</style>\n",
       "<table border=\"1\" class=\"dataframe\">\n",
       "  <thead>\n",
       "    <tr style=\"text-align: right;\">\n",
       "      <th></th>\n",
       "      <th>clean_text</th>\n",
       "    </tr>\n",
       "  </thead>\n",
       "  <tbody>\n",
       "    <tr>\n",
       "      <th>0</th>\n",
       "      <td>americanair car gng dfw pulled ago icy road aa...</td>\n",
       "    </tr>\n",
       "    <tr>\n",
       "      <th>1</th>\n",
       "      <td>americanair plane land identical worse conditi...</td>\n",
       "    </tr>\n",
       "  </tbody>\n",
       "</table>\n",
       "</div>"
      ],
      "text/plain": [
       "                                          clean_text\n",
       "0  americanair car gng dfw pulled ago icy road aa...\n",
       "1  americanair plane land identical worse conditi..."
      ]
     },
     "execution_count": 19,
     "metadata": {},
     "output_type": "execute_result"
    }
   ],
   "source": [
    "df_test['clean_text'] = pd.DataFrame(df_test['text'].apply(clean_tweet))\n",
    "df_test.drop(['text'], axis = 1, inplace = True)\n",
    "df_test.head(2)"
   ]
  },
  {
   "cell_type": "markdown",
   "id": "bdf84ae9",
   "metadata": {},
   "source": [
    "## <u><center>Feature Extraction</center></u>\n",
    "#### **Tfidf Vectorizer**"
   ]
  },
  {
   "cell_type": "code",
   "execution_count": 20,
   "id": "3fa2fbd8",
   "metadata": {},
   "outputs": [
    {
     "name": "stdout",
     "output_type": "stream",
     "text": [
      "{'southwestair': 808, 'scheduled': 754, 'morning': 576, 'day': 214, 'fact': 301, 'yes': 995, 'sure': 839, 'evening': 281, 'flight': 330, 'one': 618, 'cancelled': 125, 'flightled': 336, 'time': 875, 'going': 385, 'beyond': 91, 'love': 524, 'flying': 344, 'guy': 397, 'thank': 864, 'united': 921, 'flew': 329, 'ord': 623, 'miami': 557, 'back': 79, 'great': 392, 'crew': 202, 'service': 774, 'leg': 495, 'thanks': 865, 'delayed': 221, 'air': 17, 'last': 485, 'min': 563, 'landed': 482, 'load': 511, 'knew': 474, 'pilot': 656, 'hour': 433, 'late': 486, 'jetblue': 465, 'response': 725, 'frustrating': 364, 'poor': 669, 'cust': 206, 'amp': 36, 'told': 881, 'ppl': 673, 'wait': 947, 'come': 167, 'nice': 595, 'hoping': 430, 'enough': 274, 'mile': 560, 'take': 850, 'trip': 898, 'seattle': 759, 'enjoy': 273, 'city': 153, 'coffee': 164, 'worse': 985, 'customer': 207, 'ever': 282, 'problems': 681, 'happen': 404, 'deal': 217, 'company': 172, 'never': 589, 'yeah': 993, 'haha': 398, 'expensive': 294, 'much': 581, 'fun': 369, 'destinationdragons': 235, 'gt': 395, 'dca': 216, 'almost': 27, 'full': 368, 'people': 642, 'screwed': 756, 'usairways': 931, 'way': 957, 'get': 377, 'ticket': 874, 'receipt': 704, 'check': 146, 'online': 619, 'change': 140, 'lounge': 523, 'snack': 795, 'receive': 705, 'bad': 80, 'ended': 272, 'several': 776, 'dollar': 249, 'family': 306, 'board': 98, 'mine': 565, 'arrived': 56, 'gate': 375, 'airport': 22, 'week': 961, 'refund': 709, 'totally': 887, 'unacceptable': 916, 'fix': 324, 'put': 689, 'social': 797, 'medium': 548, 'tv': 907, 'americanair': 34, 'msg': 580, 'provide': 686, 'detail': 236, 'really': 700, 'need': 587, 'svc': 841, 'training': 890, 'staff': 815, 'rt': 735, 'fleet': 328, 'fleek': 327, 'http': 437, 'info': 455, 'jfk': 466, 'already': 28, 'tried': 897, 'le': 489, 'today': 879, 'touch': 888, 'desk': 232, 'luck': 527, 'new': 591, 'problem': 680, 'wrong': 990, 'name': 585, 'reservation': 719, 'airway': 23, 'fixed': 325, 'ca': 118, 'tsa': 904, 'possible': 670, 'chance': 139, 'swa': 843, 'would': 988, 'make': 534, 'connect': 184, 'run': 739, 'show': 781, 'boarding': 100, 'pas': 633, 'say': 751, 'american': 33, 'line': 505, 'computer': 178, 'giving': 381, 'update': 923, 'took': 884, 'app': 48, 'ridiculous': 728, 'keep': 469, 'updated': 924, 'good': 389, 'fly': 342, 'child': 151, 'turn': 906, 'buy': 116, 'return': 726, 'telling': 860, 'waited': 948, 'member': 550, 'left': 494, 'item': 462, 'came': 124, 'attendant': 67, 'said': 745, 'away': 75, 'san': 746, 'made': 531, 'afternoon': 13, 'everything': 285, 'help': 418, 'excited': 289, 'home': 427, 'tonight': 883, 'understand': 917, 'weather': 958, 'hear': 413, 'apology': 47, 'phone': 652, 'moved': 578, 'booked': 102, 'first': 323, 'class': 155, 'counting': 196, 'oh': 613, 'look': 515, 'club': 162, 'pass': 634, 'complaint': 175, 'americanairlines': 35, 'supervisor': 836, 'pls': 663, 'compensate': 173, 'delay': 220, 'called': 122, 'report': 714, 'soon': 802, 'changed': 141, 'experience': 295, 'leave': 492, 'code': 163, 'hi': 423, 'got': 390, 'message': 554, 'part': 632, 'rebook': 702, 'answer': 39, 'call': 120, 'hold': 425, 'supposed': 838, 'dallas': 210, 'itinerary': 463, 'fail': 302, 'rdu': 695, 'sitting': 789, 'waiting': 949, 'impressed': 451, 'reply': 713, 'spoke': 814, 'baggage': 84, 'contact': 188, 'number': 606, 'try': 902, 'bag': 83, 'stay': 822, 'iad': 442, 'pick': 655, 'tmrw': 878, 'layover': 488, 'kind': 473, 'airline': 19, 'charge': 143, 'wow': 989, 'auto': 70, 'callback': 121, 'blue': 96, 'helped': 419, 'bring': 108, 'promise': 685, 'free': 356, 'know': 475, 'reach': 696, 'without': 974, 'super': 835, 'long': 513, 'want': 951, 'website': 960, 'please': 662, 'still': 824, 'seat': 757, 'plus': 664, 'food': 349, 'right': 729, 'end': 271, 'let': 496, 'delta': 224, 'virginamerica': 943, 'best': 89, 'claim': 154, 'flighted': 332, 'due': 259, 'destination': 234, 'route': 733, 'us': 929, 'amazing': 31, 'fault': 310, 'joke': 468, 'world': 983, 'together': 880, 'sort': 804, 'notification': 605, 'option': 622, 'trying': 903, 'two': 912, 'received': 706, 'zero': 999, 'traveling': 894, 'aa': 0, 'agent': 14, 'looking': 516, 'went': 965, 'personal': 646, 'lost': 520, 'talk': 854, 'sat': 747, 'plane': 659, 'hr': 436, 'finally': 320, 'anywhere': 46, 'spend': 812, 'cost': 192, 'room': 731, 'kid': 471, 'work': 980, 'high': 424, 'friend': 360, 'flt': 341, 'dm': 248, 'mom': 572, 'tomorrow': 882, 'notice': 604, 'system': 847, 'go': 383, 'runway': 741, 'dfwairport': 238, 'dfw': 237, 'figure': 316, 'could': 193, 'tell': 859, 'imaginedragons': 449, 'night': 596, 'see': 762, 'single': 786, 'reflight': 708, 'booking': 103, 'final': 319, 'money': 574, 'transfer': 891, 'point': 667, 'someone': 799, 'dividend': 247, 'passenger': 636, 'even': 280, 'book': 101, 'vacation': 937, 'seen': 765, 'year': 994, 'business': 114, 'travel': 892, 'job': 467, 'den': 225, 'phx': 654, 'lack': 479, 'concern': 179, 'iah': 443, 'luggage': 528, 'taken': 851, 'care': 130, 'maybe': 543, 'allow': 25, 'link': 506, 'thing': 866, 'wo': 975, 'safety': 744, 'video': 940, 'save': 749, 'emergency': 268, 'exit': 291, 'ta': 848, 'another': 38, 'catch': 134, 'yet': 997, 'connection': 186, 'attitude': 68, 'access': 5, 'automated': 71, 'flightr': 337, 'frustrated': 363, 'direct': 242, 'newark': 592, 'winter': 972, 'break': 107, 'nashville': 586, 'open': 621, 'southwest': 807, 'flighting': 333, 'likely': 504, 'plan': 658, 'tuesday': 905, 'big': 92, 'surprise': 840, 'issue': 461, 'minute': 566, 'phoenix': 651, 'aircraft': 18, 'ready': 698, 'acceptable': 4, 'hard': 409, 'upset': 927, 'least': 491, 'award': 74, 'site': 788, 'error': 278, 'ask': 59, 'platinum': 661, 'start': 817, 'chicago': 150, 'avgeek': 73, 'houston': 434, 'seriously': 773, 'held': 415, 'ok': 614, 'may': 542, 'lose': 518, 'longer': 514, 'trust': 901, 'handle': 401, 'awesome': 76, 'twitter': 911, 'switch': 845, 'anything': 44, 'getting': 378, 'nyc': 608, 'screw': 755, 'think': 867, 'voucher': 946, 'seem': 763, 'like': 503, 'lol': 512, 'resolution': 720, 'especially': 279, 'cause': 135, 'charged': 144, 'credit': 201, 'card': 129, 'provided': 687, 'awful': 77, 'forward': 353, 'birthday': 94, 'coming': 168, 'plz': 665, 'ur': 928, 'employee': 269, 'counter': 195, 'philadelphia': 647, 'extremely': 300, 'rude': 736, 'sick': 783, 'missed': 568, 'horrible': 431, 'future': 372, 'ewr': 286, 'connecting': 185, 'seems': 764, 'better': 90, 'speak': 810, 'human': 439, 'resolve': 721, 'hang': 403, 'win': 970, 'little': 509, 'offered': 610, 'explanation': 298, 'gave': 376, 'either': 264, 'hope': 428, 'dealing': 218, 'story': 827, 'share': 778, 'everyone': 284, 'sent': 771, 'anyone': 43, 'quick': 691, 'serious': 772, 'question': 690, 'showing': 782, 'place': 657, 'ground': 393, 'mobile': 571, 'available': 72, 'passbook': 635, 'stuck': 829, 'clear': 156, 'month': 575, 'believe': 88, 'disappointed': 243, 'bos': 104, 'sfo': 777, 'original': 625, 'charlotte': 145, 'captain': 127, 'sign': 784, 'around': 53, 'gone': 388, 'saw': 750, 'useless': 935, 'text': 863, 'literally': 508, 'information': 456, 'happening': 406, 'send': 768, 'row': 734, 'suck': 832, 'actually': 8, 'move': 577, 'clt': 161, 'depart': 228, 'pay': 639, 'rep': 712, 'hung': 440, 'asked': 60, 'past': 637, 'arrive': 55, 'tweet': 908, 'also': 29, 'well': 964, 'nothing': 603, 'overnight': 629, 'hotel': 432, 'perhaps': 644, 'except': 288, 'anyway': 45, 'tarmac': 857, 'lie': 501, 'always': 30, 'old': 616, 'vegas': 938, 'imagine': 448, 'dragon': 254, 'every': 283, 'wife': 967, 'atlanta': 65, 'march': 539, 'since': 785, 'mechanical': 547, 'use': 933, 'drink': 255, 'inconvenience': 452, 'cover': 199, 'fair': 305, 'sleep': 791, 'guess': 396, 'worry': 984, 'forgot': 351, 'checked': 147, 'hello': 417, 'taking': 853, 'appreciate': 50, 'flightlation': 334, 'man': 537, 'maintenance': 532, 'clearly': 157, 'given': 380, 'saturday': 748, 'airways': 24, 'dont': 252, 'worst': 986, 'leaving': 493, 'asap': 58, 'incredibly': 453, 'sit': 787, 'trouble': 899, 'daughter': 213, 'landing': 483, 'true': 900, 'dc': 215, 'cool': 190, 'expected': 293, 'lt': 526, 'assistance': 63, 'land': 481, 'twice': 910, 'case': 133, 'id': 445, 'request': 716, 'unhappy': 919, 'fll': 339, 'missing': 569, 'starting': 819, 'disconnect': 244, 'answered': 40, 'many': 538, 'onboard': 617, 'upgrade': 925, 'treated': 896, 'excuse': 290, 'departure': 230, 'found': 354, 'boarded': 99, 'yr': 998, 'helping': 421, 'fare': 309, 'done': 251, 'yesterday': 996, 'kudos': 477, 'yall': 992, 'live': 510, 'photo': 653, 'view': 941, 'companion': 171, 'wifi': 968, 'count': 194, 'confirmation': 182, 'feel': 315, 'add': 9, 'frequent': 358, 'flyer': 343, 'arrival': 54, 'lot': 521, 'cold': 165, 'freezing': 357, 'list': 507, 'email': 266, 'four': 355, 'able': 1, 'flights': 338, 'refuse': 710, 'give': 379, 'ua': 913, 'unhelpful': 920, 'terminal': 861, 'making': 536, 'early': 261, 'something': 800, 'state': 820, 'status': 821, 'closed': 159, 'mean': 546, 'person': 645, 'assist': 62, 'changing': 142, 'feb': 312, 'mco': 544, 'front': 362, 'though': 869, 'behind': 87, 'used': 934, 'earlier': 260, 'mia': 556, 'lga': 500, 'currently': 205, 'im': 447, 'cant': 126, 'find': 321, 'unfortunately': 918, 'current': 204, 'sorry': 803, 'ice': 444, 'snow': 796, 'middle': 558, 'next': 594, 'happened': 405, 'entertainment': 275, 'boston': 105, 'rebooked': 703, 'compensation': 174, 'priority': 678, 'mention': 551, 'car': 128, 'checking': 149, 'carry': 132, 'miss': 567, 'loyal': 525, 'door': 253, 'close': 158, 'takeoff': 852, 'stop': 825, 'thought': 870, 'international': 459, 'philly': 648, 'wtf': 991, 'denver': 227, 'visit': 944, 'professional': 683, 'fee': 313, 'working': 982, 'small': 793, 'baby': 78, 'damn': 211, 'internet': 460, 'mind': 564, 'standby': 816, 'gon': 387, 'na': 584, 'situation': 790, 'matter': 541, 'select': 766, 'multiple': 582, 'attempt': 66, 'broke': 109, 'calling': 123, 'preferred': 674, 'letter': 497, 'department': 229, 'cut': 209, 'short': 780, 'follow': 346, 'airplane': 21, 'bumped': 112, 'losing': 519, 'none': 599, 'group': 394, 'folk': 345, 'extra': 299, 'onto': 620, 'using': 936, 'process': 682, 'half': 399, 'rather': 694, 'solution': 798, 'god': 384, 'phl': 649, 'disconnected': 245, 'paying': 640, 'offer': 609, 'non': 598, 'offering': 611, 'round': 732, 'purchase': 688, 'unable': 915, 'word': 979, 'terrible': 862, 'forced': 350, 'equipment': 277, 'failure': 304, 'looks': 517, 'schedule': 753, 'appreciated': 51, 'page': 630, 'form': 352, 'post': 671, 'water': 956, 'spent': 813, 'bc': 86, 'else': 265, 'head': 411, 'merger': 552, 'easy': 262, 'worth': 987, 'paid': 631, 'train': 889, 'area': 52, 'friday': 359, 'real': 699, 'price': 677, 'via': 939, 'known': 476, 'answering': 41, 'effort': 263, 'communication': 170, 'office': 612, 'mess': 553, 'flown': 340, 'team': 858, 'stuff': 830, 'thx': 873, 'program': 684, 'complete': 176, 'policy': 668, 'smh': 794, 'hate': 410, 'flightlations': 335, 'relation': 711, 'wanted': 952, 'traveler': 893, 'tho': 868, 'switched': 846, 'happens': 407, 'excellent': 287, 'filed': 318, 'ago': 15, 'three': 871, 'conf': 180, 'sunday': 834, 'moving': 579, 'reason': 701, 'ruined': 737, 'fan': 307, 'lots': 522, 'confirm': 181, 'file': 317, 'set': 775, 'shit': 779, 'fucking': 367, 'premier': 675, 'support': 837, 'warm': 953, 'busy': 115, 'helpful': 420, 'crazy': 200, 'funny': 371, 'phlairport': 650, 'definitely': 219, 'favorite': 311, 'diego': 239, 'inflight': 454, 'nightmare': 597, 'others': 627, 'choice': 152, 'fyi': 373, 'saying': 752, 'monday': 573, 'nope': 601, 'top': 885, 'submitted': 831, 'rate': 693, 'news': 593, 'rock': 730, 'account': 6, 'suggestion': 833, 'fuck': 366, 'lax': 487, 'willing': 969, 'far': 308, 'added': 10, 'volume': 945, 'second': 760, 'confirmed': 183, 'emailed': 267, 'step': 823, 'responding': 724, 'watch': 955, 'allowed': 26, 'usair': 930, 'mad': 530, 'needed': 588, 'following': 348, 'total': 886, 'airlines': 20, 'weekend': 962, 'seating': 758, 'anymore': 42, 'inside': 457, 'failed': 303, 'sweet': 844, 'bank': 85, 'america': 32, 'denied': 226, 'fl': 326, 'unitedairlines': 922, 'treat': 895, 'ny': 607, 'carrier': 131, 'respond': 723, 'huge': 438, 'sense': 770, 'orlando': 626, 'funeral': 370, 'customerservice': 208, 'mistake': 570, 'thru': 872, 'talked': 855, 'correct': 191, 'son': 801, 'window': 971, 'asking': 61, 'clothes': 160, 'idea': 446, 'mileage': 561, 'commercial': 169, 'nonstop': 600, 'okay': 615, 'kept': 470, 'hey': 422, 'sending': 769, 'stranded': 828, 'might': 559, 'read': 697, 'heard': 414, 'however': 435, 'completely': 177, 'luv': 529, 'course': 198, 'whole': 966, 'jet': 464, 'gotten': 391, 'btw': 111, 'wonderful': 977, 'despite': 233, 'note': 602, 'learn': 490, 'absolute': 2, 'neveragain': 590, 'broken': 110, 'major': 533, 'talking': 856, 'space': 809, 'cabin': 119, 'delivered': 223, 'ugh': 914, 'woman': 976, 'country': 197, 'wasted': 954, 'friendly': 361, 'mexico': 555, 'happy': 408, 'address': 11, 'feedback': 314, 'sound': 805, 'control': 189, 'bought': 106, 'drop': 257, 'overhead': 628, 'holding': 426, 'started': 818, 'lady': 480, 'south': 806, 'life': 502, 'drive': 256, 'la': 478, 'storm': 826, 'entire': 276, 'pathetic': 638, 'bus': 113, 'welcome': 963, 'record': 707, 'meal': 545, 'glad': 382, 'empty': 270, 'expect': 292, 'bna': 97, 'reschedule': 717, 'match': 540, 'per': 643, 'frustration': 365, 'husband': 441, 'checkin': 148, 'dropped': 258, 'badcustomerservice': 81, 'kidding': 472, 'center': 137, 'ride': 727, 'domestic': 250, 'letting': 498, 'hopefully': 429, 'different': 241, 'usairwaysfail': 932, 'atl': 64, 'arriving': 57, 'must': 583, 'sw': 842, 'probably': 679, 'mileageplus': 562, 'followed': 347, 'ceo': 138, 'fine': 322, 'web': 959, 'rule': 738, 'pm': 666, 'discount': 246, 'wish': 973, 'running': 740, 'tix': 877, 'explain': 297, 'virgin': 942, 'resolved': 722, 'sad': 742, 'announcement': 37, 'bwi': 117, 'handled': 402, 'caused': 136, 'apparently': 49, 'absolutely': 3, 'crossed': 203, 'las': 484, 'flightd': 331, 'security': 761, 'austin': 69, 'hell': 416, 'raise': 692, 'power': 672, 'consider': 187, 'tag': 849, 'instead': 458, 'order': 624, 'bin': 93, 'rescheduled': 718, 'bit': 95, 'tweeting': 909, 'headed': 412, 'pretty': 676, 'date': 212, 'game': 374, 'meeting': 549, 'hand': 400, 'worked': 981, 'wall': 950, 'ahead': 16, 'difference': 240, 'special': 811, 'makes': 535, 'safe': 743, 'experienced': 296, 'representative': 715, 'impossible': 450, 'slow': 792, 'wondering': 978, 'pdx': 641, 'sell': 767, 'gold': 386, 'planned': 660, 'badservice': 82, 'upgraded': 926, 'advisory': 12, 'actual': 7, 'deliver': 222, 'level': 499, 'columbus': 166, 'dept': 231, 'tired': 876}\n"
     ]
    }
   ],
   "source": [
    "tfid_vec = TfidfVectorizer(max_features=1000)\n",
    "\n",
    "x_train1 = tfid_vec.fit_transform(df_train.clean_text)\n",
    "y_train1 = df_train['airline_sentiment']\n",
    "\n",
    "x_test1 = tfid_vec.transform(df_test['clean_text'])\n",
    "\n",
    "# summarize\n",
    "print(tfid_vec.vocabulary_)"
   ]
  },
  {
   "cell_type": "markdown",
   "id": "33e80143",
   "metadata": {},
   "source": [
    "#### Count Vectorizer"
   ]
  },
  {
   "cell_type": "code",
   "execution_count": 21,
   "id": "78525a15",
   "metadata": {},
   "outputs": [],
   "source": [
    "count_vec = CountVectorizer(max_features=1000)\n",
    "\n",
    "x_train2 = count_vec.fit_transform(df_train.clean_text)\n",
    "y_train2 = df_train['airline_sentiment']\n",
    "\n",
    "x_test2 = count_vec.transform(df_test['clean_text'])"
   ]
  },
  {
   "cell_type": "markdown",
   "id": "c624713a",
   "metadata": {},
   "source": [
    "## <u><center>Model Building</center></u>"
   ]
  },
  {
   "cell_type": "markdown",
   "id": "294e872b",
   "metadata": {},
   "source": [
    "#### <u><center> Random Forest Classifier, MultinomialNB, SVC</center></u>"
   ]
  },
  {
   "cell_type": "code",
   "execution_count": 22,
   "id": "e99636a8",
   "metadata": {},
   "outputs": [
    {
     "data": {
      "text/plain": [
       "[SVC(), MultinomialNB(), RandomForestClassifier()]"
      ]
     },
     "execution_count": 22,
     "metadata": {},
     "output_type": "execute_result"
    }
   ],
   "source": [
    "rf = RandomForestClassifier()\n",
    "svc = SVC()\n",
    "mnb = MultinomialNB()\n",
    "model = [ svc, mnb, rf]\n",
    "model_name =[m for m in model]\n",
    "model_name"
   ]
  },
  {
   "cell_type": "code",
   "execution_count": 23,
   "id": "7d1084bc",
   "metadata": {},
   "outputs": [
    {
     "name": "stdout",
     "output_type": "stream",
     "text": [
      "SVC() score is 0.918943533697632\n",
      "cross vali:  [0.78278689 0.77595628 0.77003643 0.77322404 0.78187614]  avg => 0.776775956284153 \n",
      "\n",
      "--------------------------------------------------\n",
      "MultinomialNB() score is 0.7693989071038252\n",
      "cross vali:  [0.74089253 0.74499089 0.73907104 0.74817851 0.74681239]  avg => 0.7439890710382514 \n",
      "\n",
      "--------------------------------------------------\n",
      "RandomForestClassifier() score is 0.9889799635701275\n",
      "cross vali:  [0.75591985 0.74362477 0.75091075 0.75455373 0.75227687]  avg => 0.7514571948998178 \n",
      "\n",
      "--------------------------------------------------\n"
     ]
    }
   ],
   "source": [
    "for m in model:\n",
    "    m.fit(x_train1,y_train1)\n",
    "    print(m, \"score is\", m.score(x_train1,y_train1))\n",
    "    cs = cross_val_score(m, x_train1 , y_train1, cv=5)\n",
    "    print(\"cross vali: \",cs, \" avg =>\", cs.mean(), '\\n')\n",
    "    print('-'*50)"
   ]
  },
  {
   "cell_type": "code",
   "execution_count": 24,
   "id": "5d7994e2",
   "metadata": {},
   "outputs": [
    {
     "name": "stdout",
     "output_type": "stream",
     "text": [
      "SVC() score is 0.6692167577413479\n",
      "cross vali:  [0.76958106 0.77094718 0.76001821 0.7654827  0.78324226]  avg => 0.7698542805100183 \n",
      "\n",
      "--------------------------------------------------\n",
      "MultinomialNB() score is 0.7928961748633879\n",
      "cross vali:  [0.76001821 0.74817851 0.75227687 0.76411658 0.7654827 ]  avg => 0.7580145719489981 \n",
      "\n",
      "--------------------------------------------------\n",
      "RandomForestClassifier() score is 0.7235883424408015\n",
      "cross vali:  [0.74225865 0.72996357 0.75045537 0.74726776 0.73861566]  avg => 0.741712204007286 \n",
      "\n",
      "--------------------------------------------------\n"
     ]
    }
   ],
   "source": [
    "for m in model:\n",
    "    print(m, \"score is\", m.score(x_train2,y_train2))\n",
    "    cs = cross_val_score(m, x_train2 , y_train2, cv=5)\n",
    "    print(\"cross vali: \",cs, \" avg =>\", cs.mean(), '\\n')\n",
    "    print('-'*50)"
   ]
  },
  {
   "cell_type": "markdown",
   "id": "2c66feda",
   "metadata": {},
   "source": [
    "## svc is performing best so training model with svc"
   ]
  },
  {
   "cell_type": "code",
   "execution_count": 25,
   "id": "8e4391cf",
   "metadata": {},
   "outputs": [
    {
     "data": {
      "text/plain": [
       "SVC()"
      ]
     },
     "execution_count": 25,
     "metadata": {},
     "output_type": "execute_result"
    }
   ],
   "source": [
    "model = SVC()\n",
    "model.fit(x_train1 , y_train1)"
   ]
  },
  {
   "cell_type": "markdown",
   "id": "2522eb86",
   "metadata": {},
   "source": [
    "## <u><center>Prediction on new tweets</center></u>"
   ]
  },
  {
   "cell_type": "code",
   "execution_count": 26,
   "id": "187352af",
   "metadata": {},
   "outputs": [
    {
     "name": "stdout",
     "output_type": "stream",
     "text": [
      "['negative']\n",
      "['positive']\n",
      "['neutral']\n",
      "['positive']\n",
      "['negative']\n"
     ]
    }
   ],
   "source": [
    "for i in range(15,20):\n",
    "    print(model.predict(x_test1[i]))"
   ]
  },
  {
   "cell_type": "code",
   "execution_count": 27,
   "id": "e0891cd0",
   "metadata": {},
   "outputs": [],
   "source": [
    "y_predict = model.predict(x_test1)\n",
    "#This prediction was giving accuracy of 78.25% on submission."
   ]
  },
  {
   "cell_type": "markdown",
   "id": "d0299390",
   "metadata": {},
   "source": [
    "### Trying on new tweets"
   ]
  },
  {
   "cell_type": "code",
   "execution_count": 28,
   "id": "5c612a72",
   "metadata": {},
   "outputs": [
    {
     "data": {
      "text/plain": [
       "\"\\ndf_train = df_training[['text', 'airline_sentiment']]\\ndf_train.head()\\ndef clean_text(text):\\n    text=text.lower()\\n    text=re.sub('[^0-9a-zA-z]',' ',text)\\n    text=re.sub('\\\\s+',' ',text)\\n    text=' '.join(word for word in text.split() if word not in stops)\\n    return text\\n\\nclean_text2 = lambda x: clean_text(x)\\n\\ndf_train['text'] = pd.DataFrame(df_train['text'].apply(clean_text2))\\ndf_train['text']\\n\""
      ]
     },
     "execution_count": 28,
     "metadata": {},
     "output_type": "execute_result"
    }
   ],
   "source": [
    "'''\n",
    "# Converting predictions into the csv file\n",
    "#np.savetxt(\"twitter_predictions.csv\", y_test, fmt='%s')\n",
    "\n",
    "rf1 = RandomForestClassifier()\n",
    "tfid_vec1 = TfidfVectorizer(max_features=1100)\n",
    "from sklearn.pipeline import Pipeline\n",
    "model = Pipeline([('vectorizer', tfid_vec1), ('classifier', rf1)])\n",
    "model.fit(training_tweet_docs, y_train)\n",
    "model.predict(['americanair car gng dfw pulled ago icy road aa since ca reach arpt wat'])\n",
    "\n",
    "rf.predict(tfid_vec.transform(['americanair car gng dfw pulled ago icy road aa since ca reach arpt wat']))\n",
    "\n",
    "\n",
    "# encode documentof countvect\n",
    "newvector = vectorizer.transform(text1)\n",
    "# summarize encoded vector\n",
    "print(newvector.toarray())-> 0 1 0 3 0 0 2 ...\n",
    "\n",
    "#Focus on IDF VALUES\n",
    "print(vectorizer.idf_)\n",
    "# encode document\n",
    "vector = vectorizer.transform([text_as_input])\n",
    "# summarize encoded vector\n",
    "print(vector.toarray()) -> 0 0.3 0.27 ....\n",
    "\n",
    "from sklearn.metrics import accuracy_score, precision_score, recall_score\n",
    "\n",
    "print(\"Accuracy : \", accuracy_score(predictions, DV_test))\n",
    "print(\"Precision : \", precision_score(predictions, DV_test, average = 'weighted'))\n",
    "print(\"Recall : \", recall_score(predictions, DV_test, average = 'weighted'))\n",
    "\n",
    "'''\n",
    "\n",
    "'''\n",
    "#word tokenization\n",
    "train_docs = []\n",
    "for i in range(len(X_training_tweets)):\n",
    "    train_docs.append( (word_tokenize(X_training_tweets[i]), Y_sentiments[i]) )\n",
    "# function to clean each tweets\n",
    "def clean_tweet(words):\n",
    "    # Created empty a list to store the clean tweet words\n",
    "    output_words = []\n",
    "    # traversing through each word, Ignoring the stopwords, punctuations, Checking whether word contains only alphabets?\n",
    "    for w in words:\n",
    "        if w.lower() not in stops and w.lower().isalpha():\n",
    "            # applying lemmatizer \n",
    "            clean_word = lemmatizer.lemmatize(w)\n",
    "            output_words.append(clean_word.lower())\n",
    "    return output_words\n",
    "\n",
    "# Applying the clean_tweet function on training data\n",
    "train_docs = [ (clean_tweet(tweet), sentiment) for tweet,sentiment in train_docs ]\n",
    "train_docs[0]\n",
    "\n",
    "# Joining the words of clean tweets\n",
    "training_tweet_docs =[\" \".join(tweet) for tweet,sentiment in train_docs]\n",
    "# First 10 cleaned tweets of training data\n",
    "training_tweet_docs[0:10]\n",
    "'''\n",
    "\n",
    "'''\n",
    "df_train = df_training[['text', 'airline_sentiment']]\n",
    "df_train.head()\n",
    "def clean_text(text):\n",
    "    text=text.lower()\n",
    "    text=re.sub('[^0-9a-zA-z]',' ',text)\n",
    "    text=re.sub('\\s+',' ',text)\n",
    "    text=' '.join(word for word in text.split() if word not in stops)\n",
    "    return text\n",
    "\n",
    "clean_text2 = lambda x: clean_text(x)\n",
    "\n",
    "df_train['text'] = pd.DataFrame(df_train['text'].apply(clean_text2))\n",
    "df_train['text']\n",
    "'''"
   ]
  }
 ],
 "metadata": {
  "kernelspec": {
   "display_name": "Python 3 (ipykernel)",
   "language": "python",
   "name": "python3"
  },
  "language_info": {
   "codemirror_mode": {
    "name": "ipython",
    "version": 3
   },
   "file_extension": ".py",
   "mimetype": "text/x-python",
   "name": "python",
   "nbconvert_exporter": "python",
   "pygments_lexer": "ipython3",
   "version": "3.9.7"
  }
 },
 "nbformat": 4,
 "nbformat_minor": 5
}
